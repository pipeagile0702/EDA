{
 "cells": [
  {
   "cell_type": "markdown",
   "id": "459d2810",
   "metadata": {},
   "source": [
    "**NOMBRE:** Andrés Felipe Ocampo Quiceno"
   ]
  },
  {
   "cell_type": "markdown",
   "id": "e399fd88",
   "metadata": {},
   "source": [
    "## 1. Contexto del análisis\n",
    "\n",
    "La deserción en la educación superior es un problema que ha cobrado gran relevancia en el  escenario nacional desde hace un poco más de una década. El estudiante y su familia, las instituciones educativas, el Sistema de educación superior y la sociedad en su conjunto asumen los costos y efectos negativos de la suspensión de los estudios de cada estudiante. Por tanto, para las Instituciones educativas es un deber entender este fenómeno y maximizar los esfuerzos para mitigarlo.\n",
    "\n",
    "A razón de lo expuesto anteriormente, para la Universidad Icesi, disminuir los índices de deserción es una tarea imperativa que requiere ser puesta en marcha con todos los recursos requeridos. Esto se refleja en el Plan de Desarrollo Institucional al 2022, planteado en el 2012, y en el que la Universidad se planteó como Objetivo Estratégico Institucional: \"*Aumentar el porcentaje de graduación de los estudiantes, con excelencia en valores y capacidades*\". Uno de los indicadores que evalúa el cumplimiento de ese objetivo es justamente el indicador de deserción (medido a ciertos semestres).\n",
    "\n",
    "Existen varios indicadores que miden la deserción, y su diversidad dependerá del momento en que se mida la deserción. Ejemplo, un indicador puede medir la deserción de una cohorte de estudiantes al pasar 11 semestres o, incluso, 14 semestres. Sin embargo, tanto en la literatura nacional, como para el caso de la Universidad Icesi, se observa que la deserción ocurre, mayoritariamente, en los primeros periodos académicos. De hecho, para la Universidad se encuentra que 2 de cada 3 estudiantes que desertan lo hacen luego de culminar  entre uno y tres periodos académicos (4 de cada 5 estudiantes entre uno y cuatro periodos). Por ello, el presente análisis se enfocará en la llamada deserción temprana, que es la que ocurre en los primeros 4 semestres."
   ]
  },
  {
   "cell_type": "code",
   "execution_count": 13,
   "id": "590289b7",
   "metadata": {},
   "outputs": [],
   "source": [
    "# Cargue de librerías\n",
    "\n",
    "import pandas as pd\n",
    "from scipy.stats import skew, kurtosis\n",
    "import numpy as np  ## Libreria para operaciones numéricas\n",
    "import matplotlib.pyplot as plt  ## Libreria para visualizar\n",
    "import seaborn as sns   ## Libreria para visualizar"
   ]
  },
  {
   "cell_type": "code",
   "execution_count": 2,
   "id": "ac21538a",
   "metadata": {
    "scrolled": true
   },
   "outputs": [
    {
     "data": {
      "text/html": [
       "<div>\n",
       "<style scoped>\n",
       "    .dataframe tbody tr th:only-of-type {\n",
       "        vertical-align: middle;\n",
       "    }\n",
       "\n",
       "    .dataframe tbody tr th {\n",
       "        vertical-align: top;\n",
       "    }\n",
       "\n",
       "    .dataframe thead th {\n",
       "        text-align: right;\n",
       "    }\n",
       "</style>\n",
       "<table border=\"1\" class=\"dataframe\">\n",
       "  <thead>\n",
       "    <tr style=\"text-align: right;\">\n",
       "      <th></th>\n",
       "      <th>CODIGO</th>\n",
       "      <th>PUNTAJE_ICFES</th>\n",
       "      <th>GENERO</th>\n",
       "      <th>CIUDAD_COLEGIO</th>\n",
       "      <th>DEPTO_COLEGIO</th>\n",
       "      <th>FECHA_NACIMIENTO</th>\n",
       "      <th>ESTRATO</th>\n",
       "      <th>ETNIA</th>\n",
       "    </tr>\n",
       "  </thead>\n",
       "  <tbody>\n",
       "    <tr>\n",
       "      <th>0</th>\n",
       "      <td>A00399991</td>\n",
       "      <td>374.0</td>\n",
       "      <td>F</td>\n",
       "      <td>NaN</td>\n",
       "      <td>NaN</td>\n",
       "      <td>27-JUN-1990</td>\n",
       "      <td>6.0</td>\n",
       "      <td>NaN</td>\n",
       "    </tr>\n",
       "    <tr>\n",
       "      <th>1</th>\n",
       "      <td>A00027832</td>\n",
       "      <td>339.0</td>\n",
       "      <td>M</td>\n",
       "      <td>CALI</td>\n",
       "      <td>VALLE DEL CAUCA</td>\n",
       "      <td>12-JUN-1995</td>\n",
       "      <td>4.0</td>\n",
       "      <td>BA - Blanco</td>\n",
       "    </tr>\n",
       "    <tr>\n",
       "      <th>2</th>\n",
       "      <td>A00027832</td>\n",
       "      <td>339.0</td>\n",
       "      <td>M</td>\n",
       "      <td>CALI</td>\n",
       "      <td>VALLE DEL CAUCA</td>\n",
       "      <td>12-JUN-1995</td>\n",
       "      <td>4.0</td>\n",
       "      <td>BA - Blanco</td>\n",
       "    </tr>\n",
       "    <tr>\n",
       "      <th>3</th>\n",
       "      <td>A00060092</td>\n",
       "      <td>393.0</td>\n",
       "      <td>M</td>\n",
       "      <td>PALMIRA</td>\n",
       "      <td>VALLE DEL CAUCA</td>\n",
       "      <td>29-ENE-1997</td>\n",
       "      <td>2.0</td>\n",
       "      <td>ME - Mestizo</td>\n",
       "    </tr>\n",
       "    <tr>\n",
       "      <th>4</th>\n",
       "      <td>A00060092</td>\n",
       "      <td>393.0</td>\n",
       "      <td>M</td>\n",
       "      <td>PALMIRA</td>\n",
       "      <td>VALLE DEL CAUCA</td>\n",
       "      <td>29-ENE-1997</td>\n",
       "      <td>2.0</td>\n",
       "      <td>ME - Mestizo</td>\n",
       "    </tr>\n",
       "    <tr>\n",
       "      <th>...</th>\n",
       "      <td>...</td>\n",
       "      <td>...</td>\n",
       "      <td>...</td>\n",
       "      <td>...</td>\n",
       "      <td>...</td>\n",
       "      <td>...</td>\n",
       "      <td>...</td>\n",
       "      <td>...</td>\n",
       "    </tr>\n",
       "    <tr>\n",
       "      <th>13001</th>\n",
       "      <td>A00079868</td>\n",
       "      <td>425.0</td>\n",
       "      <td>M</td>\n",
       "      <td>CALI</td>\n",
       "      <td>VALLE DEL CAUCA</td>\n",
       "      <td>22-AGO-1988</td>\n",
       "      <td>2.0</td>\n",
       "      <td>NaN</td>\n",
       "    </tr>\n",
       "    <tr>\n",
       "      <th>13002</th>\n",
       "      <td>A00130864</td>\n",
       "      <td>288.0</td>\n",
       "      <td>F</td>\n",
       "      <td>CALI</td>\n",
       "      <td>VALLE DEL CAUCA</td>\n",
       "      <td>16-ABR-1998</td>\n",
       "      <td>3.0</td>\n",
       "      <td>NaN</td>\n",
       "    </tr>\n",
       "    <tr>\n",
       "      <th>13003</th>\n",
       "      <td>A00340452</td>\n",
       "      <td>275.0</td>\n",
       "      <td>F</td>\n",
       "      <td>CALI</td>\n",
       "      <td>VALLE DEL CAUCA</td>\n",
       "      <td>07-ABR-1998</td>\n",
       "      <td>2.0</td>\n",
       "      <td>BA - Blanco</td>\n",
       "    </tr>\n",
       "    <tr>\n",
       "      <th>13004</th>\n",
       "      <td>A00351285</td>\n",
       "      <td>NaN</td>\n",
       "      <td>M</td>\n",
       "      <td>CALI</td>\n",
       "      <td>VALLE DEL CAUCA</td>\n",
       "      <td>25-ABR-1996</td>\n",
       "      <td>3.0</td>\n",
       "      <td>OT - Otro</td>\n",
       "    </tr>\n",
       "    <tr>\n",
       "      <th>13005</th>\n",
       "      <td>A00362797</td>\n",
       "      <td>414.0</td>\n",
       "      <td>M</td>\n",
       "      <td>CALI</td>\n",
       "      <td>VALLE DEL CAUCA</td>\n",
       "      <td>08-JUL-2000</td>\n",
       "      <td>1.0</td>\n",
       "      <td>BA - Blanco</td>\n",
       "    </tr>\n",
       "  </tbody>\n",
       "</table>\n",
       "<p>13006 rows × 8 columns</p>\n",
       "</div>"
      ],
      "text/plain": [
       "          CODIGO  PUNTAJE_ICFES GENERO CIUDAD_COLEGIO    DEPTO_COLEGIO  \\\n",
       "0      A00399991          374.0      F            NaN              NaN   \n",
       "1      A00027832          339.0      M           CALI  VALLE DEL CAUCA   \n",
       "2      A00027832          339.0      M           CALI  VALLE DEL CAUCA   \n",
       "3      A00060092          393.0      M        PALMIRA  VALLE DEL CAUCA   \n",
       "4      A00060092          393.0      M        PALMIRA  VALLE DEL CAUCA   \n",
       "...          ...            ...    ...            ...              ...   \n",
       "13001  A00079868          425.0      M           CALI  VALLE DEL CAUCA   \n",
       "13002  A00130864          288.0      F           CALI  VALLE DEL CAUCA   \n",
       "13003  A00340452          275.0      F           CALI  VALLE DEL CAUCA   \n",
       "13004  A00351285            NaN      M           CALI  VALLE DEL CAUCA   \n",
       "13005  A00362797          414.0      M           CALI  VALLE DEL CAUCA   \n",
       "\n",
       "      FECHA_NACIMIENTO  ESTRATO         ETNIA  \n",
       "0          27-JUN-1990      6.0           NaN  \n",
       "1          12-JUN-1995      4.0   BA - Blanco  \n",
       "2          12-JUN-1995      4.0   BA - Blanco  \n",
       "3          29-ENE-1997      2.0  ME - Mestizo  \n",
       "4          29-ENE-1997      2.0  ME - Mestizo  \n",
       "...                ...      ...           ...  \n",
       "13001      22-AGO-1988      2.0           NaN  \n",
       "13002      16-ABR-1998      3.0           NaN  \n",
       "13003      07-ABR-1998      2.0   BA - Blanco  \n",
       "13004      25-ABR-1996      3.0     OT - Otro  \n",
       "13005      08-JUL-2000      1.0   BA - Blanco  \n",
       "\n",
       "[13006 rows x 8 columns]"
      ]
     },
     "execution_count": 2,
     "metadata": {},
     "output_type": "execute_result"
    }
   ],
   "source": [
    "# Cargue de dataset completo\n",
    "\n",
    "BASE_PRELIMINAR=pd.read_excel(\"Base_deserción_180822 (desde 201402).xlsx\")\n",
    "BASE=BASE_PRELIMINAR[[\"CODIGO\",\"PUNTAJE_ICFES\",\"GENERO\",\"CIUDAD_COLEGIO\",\"DEPTO_COLEGIO\",\"FECHA_NACIMIENTO\",\"ESTRATO\",\"ETNIA\"]]\n",
    "BASE"
   ]
  },
  {
   "cell_type": "markdown",
   "id": "992f1716",
   "metadata": {},
   "source": [
    "## 2. Pregunta SMART\n",
    "\n",
    "La pregunta de negocio que guiará nuestro análisis será la siguiente: **¿Cuáles son los factores que más influyen en el aumento de la deserción temprana de los estudiantes de pregrado de la Universidad Icesi?**"
   ]
  },
  {
   "cell_type": "markdown",
   "id": "0282aad9",
   "metadata": {},
   "source": [
    "## 3. Descripción de los datos\n",
    "\n",
    "### Código\n",
    "\n",
    "**Tipo:** Cualitativa nominal.\n",
    "**Contexto:** Corresponde al código asignado al estudiante por la plataforma Banner cuando este se matricula formalmente en la Universidad.\n",
    "**Expectativa:** Es la identificación del estudiante y, además, la llave primaria que permitiría conectar, eventualmente, con otras bases de datos.\n",
    "\n",
    "### Puntaje Global\n",
    "\n",
    "**Tipo:** Cuantitativa continua.\n",
    "**Contexto:** Corresponde al puntaje global del estudiante en las pruebas Saber 11.\n",
    "**Expectativa:** Es la principal variable proxy del rendimiento académico que tendrá el estudiante en la Universidad.\n",
    "\n",
    "### Genero\n",
    "\n",
    "**Tipo:** Cualitativa nominal.\n",
    "**Contexto:** Corresponde al género con el que se identificó el estudiante al ingresar a la Universidad.\n",
    "**Expectativa:** Es una variable de caracterización importante cuyo análisis podría conducir a análisis diferenciados de resultados de deserción según sexo y lograr así focalizar estrategias en cada sexo según corresponda.\n",
    "\n",
    "### Ciudad colegio\n",
    "\n",
    "**Tipo:** Cualitativa nominal.\n",
    "**Contexto:** Corresponde a la ciudad del colegio en el que el estudiante finalizó su educación media.\n",
    "**Expectativa:** Es una variable proxy del rendimiento académico que tendrá el estudiante de la Universidad pues la ciudad podría delimitar la calidad del colegio en donde el estudiante recibió su educación media.\n",
    "\n",
    "### Departamento colegio\n",
    "\n",
    "**Tipo:** Cualitativa nominal.\n",
    "**Contexto:** Corresponde al departamento del colegio en el que el estudiante finalizó su educación media.\n",
    "**Expectativa:** Es una variable proxy del rendimiento académico que tendrá el estudiante de la Universidad pues el departamento podría delimitar la calidad del colegio en donde el estudiante recibió su educación media.\n",
    "\n",
    "### Fecha nacimiento\n",
    "\n",
    "**Tipo:** Cualitativa nominal.\n",
    "**Contexto:** Corresponde a la fecha de nacimiento del estudiante.\n",
    "**Expectativa:** Es una variable valiosa en términos de que su transformación permitiría el cálculo de otra variable importante que sería la edad actual del estudiante.\n",
    "\n",
    "### Estrato\n",
    "\n",
    "**Tipo:** Cualitativa ordinal.\n",
    "**Contexto:** Corresponde al estrato registrado en el recibo de servicios públicos (energía) de la vivienda en donde reside el estudiante al momento de la inscripción a la Universidad.\n",
    "**Expectativa:** Es, quizás, la principal variable proxy de las condiciones socioeconómicas del estudiante. \n",
    "\n",
    "### Etnia\n",
    "\n",
    "**Tipo:** Cualitativa nominal.\n",
    "**Contexto:** Corresponde a la etnia registrada por el estudiante al momento de la inscripción a la Universidad.\n",
    "**Expectativa:** Es una variable proxy de las condiciones socioeconómicas y relacionamiento del estudiante."
   ]
  },
  {
   "cell_type": "markdown",
   "id": "978a58ad",
   "metadata": {},
   "source": [
    "## 4. Análisis general del dataset"
   ]
  },
  {
   "cell_type": "markdown",
   "id": "0c4494fb",
   "metadata": {},
   "source": [
    "### Forma y tamaño del dataset"
   ]
  },
  {
   "cell_type": "code",
   "execution_count": 3,
   "id": "40341c77",
   "metadata": {},
   "outputs": [
    {
     "data": {
      "text/plain": [
       "(13006, 8)"
      ]
     },
     "execution_count": 3,
     "metadata": {},
     "output_type": "execute_result"
    }
   ],
   "source": [
    "BASE.shape"
   ]
  },
  {
   "cell_type": "markdown",
   "id": "df006f6b",
   "metadata": {},
   "source": [
    "La base tiene **13.006 filas y 8 columnas**."
   ]
  },
  {
   "cell_type": "markdown",
   "id": "13178b69",
   "metadata": {},
   "source": [
    "### Revisión de los tipos de variables"
   ]
  },
  {
   "cell_type": "code",
   "execution_count": 4,
   "id": "5e865600",
   "metadata": {
    "scrolled": true
   },
   "outputs": [
    {
     "name": "stdout",
     "output_type": "stream",
     "text": [
      "<class 'pandas.core.frame.DataFrame'>\n",
      "RangeIndex: 13006 entries, 0 to 13005\n",
      "Data columns (total 8 columns):\n",
      " #   Column            Non-Null Count  Dtype  \n",
      "---  ------            --------------  -----  \n",
      " 0   CODIGO            13006 non-null  object \n",
      " 1   PUNTAJE_ICFES     12224 non-null  float64\n",
      " 2   GENERO            12998 non-null  object \n",
      " 3   CIUDAD_COLEGIO    12981 non-null  object \n",
      " 4   DEPTO_COLEGIO     12979 non-null  object \n",
      " 5   FECHA_NACIMIENTO  13004 non-null  object \n",
      " 6   ESTRATO           12998 non-null  float64\n",
      " 7   ETNIA             11624 non-null  object \n",
      "dtypes: float64(2), object(6)\n",
      "memory usage: 813.0+ KB\n"
     ]
    }
   ],
   "source": [
    "BASE.info()"
   ]
  },
  {
   "cell_type": "markdown",
   "id": "1c97af9b",
   "metadata": {},
   "source": [
    "Como se puede apreciar en la tabla anterior, el dataset contiene, según Python, dos variables tipo float (números con decimales) y 6 tipo object (texto). Al analizar los tipos de algunas variables es posible darse cuenta que la única variable que no está siendo leída de forma correcta es la correspondiente con estrato, puesto que Python la está tomando como una variable tipo float, sin embargo, es realmente una variable cualitativa ordinal (tiene un órden específico según categorías de estrato). Se procede a realizar el cambio y, posteriormente, a verificar el cambio de la variable a tipo categórica."
   ]
  },
  {
   "cell_type": "code",
   "execution_count": 5,
   "id": "78cefa5d",
   "metadata": {},
   "outputs": [
    {
     "data": {
      "text/plain": [
       "2.0    3300\n",
       "3.0    2360\n",
       "5.0    2331\n",
       "1.0    1827\n",
       "4.0    1779\n",
       "6.0    1315\n",
       "0.0      86\n",
       "Name: ESTRATO, dtype: int64"
      ]
     },
     "execution_count": 5,
     "metadata": {},
     "output_type": "execute_result"
    }
   ],
   "source": [
    "BASE[\"ESTRATO\"].value_counts()"
   ]
  },
  {
   "cell_type": "code",
   "execution_count": 6,
   "id": "4ed1c9e1",
   "metadata": {},
   "outputs": [
    {
     "name": "stderr",
     "output_type": "stream",
     "text": [
      "D:\\Usuarios\\1143835519\\AppData\\Local\\Temp\\ipykernel_13352\\3343026015.py:1: SettingWithCopyWarning: \n",
      "A value is trying to be set on a copy of a slice from a DataFrame.\n",
      "Try using .loc[row_indexer,col_indexer] = value instead\n",
      "\n",
      "See the caveats in the documentation: https://pandas.pydata.org/pandas-docs/stable/user_guide/indexing.html#returning-a-view-versus-a-copy\n",
      "  BASE[\"ESTRATO\"] = pd.Categorical(BASE[\"ESTRATO\"], categories=[0,1,2,3,4,5,6], ordered=True)\n"
     ]
    }
   ],
   "source": [
    "BASE[\"ESTRATO\"] = pd.Categorical(BASE[\"ESTRATO\"], categories=[0,1,2,3,4,5,6], ordered=True)"
   ]
  },
  {
   "cell_type": "code",
   "execution_count": 7,
   "id": "86d4332e",
   "metadata": {
    "scrolled": true
   },
   "outputs": [
    {
     "name": "stdout",
     "output_type": "stream",
     "text": [
      "<class 'pandas.core.frame.DataFrame'>\n",
      "RangeIndex: 13006 entries, 0 to 13005\n",
      "Data columns (total 8 columns):\n",
      " #   Column            Non-Null Count  Dtype   \n",
      "---  ------            --------------  -----   \n",
      " 0   CODIGO            13006 non-null  object  \n",
      " 1   PUNTAJE_ICFES     12224 non-null  float64 \n",
      " 2   GENERO            12998 non-null  object  \n",
      " 3   CIUDAD_COLEGIO    12981 non-null  object  \n",
      " 4   DEPTO_COLEGIO     12979 non-null  object  \n",
      " 5   FECHA_NACIMIENTO  13004 non-null  object  \n",
      " 6   ESTRATO           12998 non-null  category\n",
      " 7   ETNIA             11624 non-null  object  \n",
      "dtypes: category(1), float64(1), object(6)\n",
      "memory usage: 724.4+ KB\n"
     ]
    }
   ],
   "source": [
    "BASE.info()"
   ]
  },
  {
   "cell_type": "markdown",
   "id": "af602aaf",
   "metadata": {},
   "source": [
    "## 5. Análisis Univariado"
   ]
  },
  {
   "cell_type": "markdown",
   "id": "3effb79b",
   "metadata": {},
   "source": [
    " ### Identificar Valores Nulos"
   ]
  },
  {
   "cell_type": "code",
   "execution_count": 8,
   "id": "dc040f9a",
   "metadata": {
    "scrolled": true
   },
   "outputs": [
    {
     "data": {
      "text/plain": [
       "CODIGO                 0\n",
       "PUNTAJE_ICFES        782\n",
       "GENERO                 8\n",
       "CIUDAD_COLEGIO        25\n",
       "DEPTO_COLEGIO         27\n",
       "FECHA_NACIMIENTO       2\n",
       "ESTRATO                8\n",
       "ETNIA               1382\n",
       "dtype: int64"
      ]
     },
     "execution_count": 8,
     "metadata": {},
     "output_type": "execute_result"
    }
   ],
   "source": [
    "#identificar la cantidad de valores nulos\n",
    "\n",
    "BASE.isna().sum()"
   ]
  },
  {
   "cell_type": "code",
   "execution_count": 9,
   "id": "08e87389",
   "metadata": {
    "scrolled": true
   },
   "outputs": [
    {
     "data": {
      "text/plain": [
       "CODIGO               0.000000\n",
       "PUNTAJE_ICFES        6.012610\n",
       "GENERO               0.061510\n",
       "CIUDAD_COLEGIO       0.192219\n",
       "DEPTO_COLEGIO        0.207596\n",
       "FECHA_NACIMIENTO     0.015378\n",
       "ESTRATO              0.061510\n",
       "ETNIA               10.625865\n",
       "dtype: float64"
      ]
     },
     "execution_count": 9,
     "metadata": {},
     "output_type": "execute_result"
    }
   ],
   "source": [
    "null_percentage = BASE.isnull().mean()*100\n",
    "null_percentage"
   ]
  },
  {
   "cell_type": "markdown",
   "id": "938d09f8",
   "metadata": {},
   "source": [
    "Se identifica que las únicas variables que presentan valores nulos son las variables: **PUNTAJE_ICFES y ETNIA**. En el caso de la variable PUNTAJE_ICFES el porcentaje de valores nulos es el 6%, mientras que en el caso de la variable ETNIA este porcentaje es aproximadamente 11%."
   ]
  },
  {
   "cell_type": "markdown",
   "id": "9e4ae9fe",
   "metadata": {},
   "source": [
    "### Analizar la distribución de las variables continuas\n",
    "\n",
    "Para el caso de nuestro dataset tenemos únicamente una variable continua que corresponde con la variable de PUNTAJE_ICFES. Se procede a analizar esta variable."
   ]
  },
  {
   "cell_type": "code",
   "execution_count": 10,
   "id": "ff0ea0c2",
   "metadata": {},
   "outputs": [
    {
     "data": {
      "text/html": [
       "<div>\n",
       "<style scoped>\n",
       "    .dataframe tbody tr th:only-of-type {\n",
       "        vertical-align: middle;\n",
       "    }\n",
       "\n",
       "    .dataframe tbody tr th {\n",
       "        vertical-align: top;\n",
       "    }\n",
       "\n",
       "    .dataframe thead th {\n",
       "        text-align: right;\n",
       "    }\n",
       "</style>\n",
       "<table border=\"1\" class=\"dataframe\">\n",
       "  <thead>\n",
       "    <tr style=\"text-align: right;\">\n",
       "      <th></th>\n",
       "      <th>PUNTAJE_ICFES</th>\n",
       "    </tr>\n",
       "  </thead>\n",
       "  <tbody>\n",
       "    <tr>\n",
       "      <th>count</th>\n",
       "      <td>12224.000000</td>\n",
       "    </tr>\n",
       "    <tr>\n",
       "      <th>mean</th>\n",
       "      <td>345.230121</td>\n",
       "    </tr>\n",
       "    <tr>\n",
       "      <th>std</th>\n",
       "      <td>49.684955</td>\n",
       "    </tr>\n",
       "    <tr>\n",
       "      <th>min</th>\n",
       "      <td>0.000000</td>\n",
       "    </tr>\n",
       "    <tr>\n",
       "      <th>25%</th>\n",
       "      <td>318.000000</td>\n",
       "    </tr>\n",
       "    <tr>\n",
       "      <th>50%</th>\n",
       "      <td>346.000000</td>\n",
       "    </tr>\n",
       "    <tr>\n",
       "      <th>75%</th>\n",
       "      <td>371.000000</td>\n",
       "    </tr>\n",
       "    <tr>\n",
       "      <th>max</th>\n",
       "      <td>900.000000</td>\n",
       "    </tr>\n",
       "    <tr>\n",
       "      <th>coef. variation</th>\n",
       "      <td>0.143918</td>\n",
       "    </tr>\n",
       "    <tr>\n",
       "      <th>skew</th>\n",
       "      <td>NaN</td>\n",
       "    </tr>\n",
       "    <tr>\n",
       "      <th>kurtosis</th>\n",
       "      <td>NaN</td>\n",
       "    </tr>\n",
       "  </tbody>\n",
       "</table>\n",
       "</div>"
      ],
      "text/plain": [
       "                 PUNTAJE_ICFES\n",
       "count             12224.000000\n",
       "mean                345.230121\n",
       "std                  49.684955\n",
       "min                   0.000000\n",
       "25%                 318.000000\n",
       "50%                 346.000000\n",
       "75%                 371.000000\n",
       "max                 900.000000\n",
       "coef. variation       0.143918\n",
       "skew                       NaN\n",
       "kurtosis                   NaN"
      ]
     },
     "execution_count": 10,
     "metadata": {},
     "output_type": "execute_result"
    }
   ],
   "source": [
    "def fun_tabla_descriptivas(columnas):\n",
    "    tabla_descriptivas=pd.DataFrame(columnas.describe())\n",
    "    tabla_descriptivas.loc['coef. variation']=columnas.std()/columnas.mean()\n",
    "    tabla_descriptivas.loc['skew']=skew(columnas)\n",
    "    tabla_descriptivas.loc['kurtosis']=kurtosis(columnas)\n",
    "    return tabla_descriptivas\n",
    "fun_tabla_descriptivas(BASE['PUNTAJE_ICFES'])"
   ]
  },
  {
   "cell_type": "markdown",
   "id": "8ff48f42",
   "metadata": {},
   "source": [
    "En esta primera aproximación a la variable, es importante indicar que la media (345) es casi igual a la mediana (346), lo que anticipa la presencia de una **distribución simétrica**. El menor puntaje registrado es 0 mientras que el máximo es 900 (ambos datos son incorrectos, por lo que tendrían que ser validados y limpiados posteriormente). Con los datos actuales se puede decir que **el 50% de los estudiantes matriculados en Icesi tiene puntajes entre 318 y 371**, por lo que también se puede anticipar una concentración importante de los datos (la escala correcta de esta variable es 0 a 500). Por otro lado, las medidas de asimetría y curtosis no se encuentran calculado, básicamente, por la presencia de 782 valores nulos en la muestra (estos valores nulos se validarán y corregirán posteriormente en la fase de limpieza). "
   ]
  },
  {
   "cell_type": "code",
   "execution_count": 16,
   "id": "7919349f",
   "metadata": {
    "scrolled": true
   },
   "outputs": [
    {
     "data": {
      "image/png": "[encoded data removed]",
      "text/plain": [
       "<Figure size 640x480 with 1 Axes>"
      ]
     },
     "metadata": {},
     "output_type": "display_data"
    }
   ],
   "source": [
    "fig_box2 = plt.figure() \n",
    "ax = fig_box2.add_axes([0,0,1,1])\n",
    "ax=sns.boxplot(x=BASE['PUNTAJE_ICFES'],color=\"steelblue\")\n",
    "#ax = sns.swarmplot(x=BASE['PUNTAJE_ICFES'],color='black')\n",
    "plt.show()"
   ]
  },
  {
   "cell_type": "code",
   "execution_count": 17,
   "id": "38d50b0e",
   "metadata": {
    "scrolled": true
   },
   "outputs": [
    {
     "data": {
      "image/png": "[encoded data removed]",
      "text/plain": [
       "<Figure size 640x480 with 1 Axes>"
      ]
     },
     "metadata": {},
     "output_type": "display_data"
    }
   ],
   "source": [
    "fig_hist = plt.figure() \n",
    "ax = fig_hist.add_axes([0,0,1,1])\n",
    "ax=sns.histplot(x=BASE['PUNTAJE_ICFES'],kde=True,color=\"steelblue\", \n",
    "                bins=round(1+3.322*np.log(len(BASE['PUNTAJE_ICFES']))))\n",
    "plt.show() "
   ]
  },
  {
   "cell_type": "markdown",
   "id": "4cd3a415",
   "metadata": {},
   "source": [
    "Como se puede apreciar tanto en el histograma como en el diagrama de cajas, la distribución de la variable de PUNTAJE_ICFES tiene una distribución asimétrica y, además, es una en la que los datos se encuentran concentrados, algo que ya se veía en las estadísticas descriptivas generadas con anterioridad. La alta concentración de los datos tiene que ver con que la Universidad tiene un tope mínimo de admisión para estudiantes que corresponde con 250. En ese sentido los datos que están por debajo de ese tope son datos que, muy probablemente, son incorrectos y deberán ser eliminados en un fase posterior de limpieza. Esto mismo sucede para aquellos datos que superan 500 (puntaje máximo)."
   ]
  },
  {
   "cell_type": "markdown",
   "id": "a9caf923",
   "metadata": {},
   "source": [
    "###  Evaluar la necesidad de usar Label encoding y/o  hot-encoding"
   ]
  },
  {
   "cell_type": "markdown",
   "id": "445b7c99",
   "metadata": {},
   "source": [
    "En el caso puntual de este dataset hay tres variables para las cuales es posible y requerido aplicar alguna de las dos técnicas, Label Encoding o Hot Encoding. En el caso de las variables GENERO y ETNIA, variables cualitativas nominales, se debería aplicar One Hot Encoding. Mientras que, en el caso de la variable ESTRATO, variable cualitativa ordinal, se debería aplicar Label Encoding."
   ]
  }
 ],
 "metadata": {
  "kernelspec": {
   "display_name": "Python 3 (ipykernel)",
   "language": "python",
   "name": "python3"
  },
  "language_info": {
   "codemirror_mode": {
    "name": "ipython",
    "version": 3
   },
   "file_extension": ".py",
   "mimetype": "text/x-python",
   "name": "python",
   "nbconvert_exporter": "python",
   "pygments_lexer": "ipython3",
   "version": "3.9.13"
  }
 },
 "nbformat": 4,
 "nbformat_minor": 5
}
